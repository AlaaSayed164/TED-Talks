{
 "cells": [
  {
   "cell_type": "code",
   "execution_count": 1,
   "id": "48beafc5",
   "metadata": {},
   "outputs": [],
   "source": [
    "from dash import Dash,dcc,html\n",
    "import jupyter_dash \n",
    "from dash import Dash, dcc, html, Input, Output, State\n"
   ]
  },
  {
   "cell_type": "code",
   "execution_count": 2,
   "id": "49ce8271",
   "metadata": {},
   "outputs": [],
   "source": [
    "# app=Dash()\n",
    "# app=jupyter_dash.JupyterDash()\n",
    "# app.layout=html.Div()\n",
    "# app.run_server()"
   ]
  },
  {
   "cell_type": "code",
   "execution_count": 3,
   "id": "d62344c9",
   "metadata": {},
   "outputs": [],
   "source": [
    "# app=jupyter_dash.JupyterDash()\n",
    "# app.layout=html.Div([\n",
    "#     html.H1(\"Hello in my first dash\")\n",
    "\n",
    "# ])\n",
    "# app.run_server()"
   ]
  },
  {
   "cell_type": "code",
   "execution_count": 4,
   "id": "74048ff5",
   "metadata": {},
   "outputs": [
    {
     "name": "stdout",
     "output_type": "stream",
     "text": [
      "Dash app running on http://127.0.0.1:8002/\n"
     ]
    }
   ],
   "source": [
    "app=jupyter_dash.JupyterDash()\n",
    "app.layout=html.Div([\n",
    "    html.H1(\"Hello in my first dash\"),\n",
    "            html.Hr(),\n",
    "            html.P(\"my text kdsfjklj!!!\"),\n",
    "\n",
    "#     html.Div([\n",
    "#         html.P(\"my text kdsfjklj!!!\"),\n",
    "#         html.Hr()\n",
    "#         html.P(\"my text2 kdsfjjhkjhkjhklj!!!\")\n",
    "#     ])\n",
    "    \n",
    "    \n",
    "    \n",
    "])\n",
    "app.run_server(port=8002, debug=True)"
   ]
  },
  {
   "cell_type": "code",
   "execution_count": 5,
   "id": "1c2736b9",
   "metadata": {},
   "outputs": [
    {
     "name": "stdout",
     "output_type": "stream",
     "text": [
      "Dash app running on http://127.0.0.1:8050/\n"
     ]
    }
   ],
   "source": [
    "app=jupyter_dash.JupyterDash()\n",
    "app.layout=html.Div([\n",
    "    html.H1(\"Hello in my first dash\" , style={\n",
    "        'textAlign':'center','color':'blue','background':'black'}),\n",
    "\n",
    "    html.Div([\n",
    "        html.P(\"my text kdsfjklj!!!\"),\n",
    "        html.Hr(),\n",
    "        html.P(\"my text2 kdsfjjhkjhkjhklj!!!\")\n",
    "    ])\n",
    "    \n",
    "    \n",
    "    \n",
    "])\n",
    "app.run_server()"
   ]
  },
  {
   "cell_type": "code",
   "execution_count": 6,
   "id": "823f03b1",
   "metadata": {},
   "outputs": [
    {
     "name": "stdout",
     "output_type": "stream",
     "text": [
      "Dash app running on http://127.0.0.1:8050/\n"
     ]
    },
    {
     "name": "stderr",
     "output_type": "stream",
     "text": [
      "C:\\ProgramData\\Anaconda3\\lib\\site-packages\\jupyter_dash\\jupyter_app.py:139: UserWarning: The 'environ['werkzeug.server.shutdown']' function is deprecated and will be removed in Werkzeug 2.1.\n",
      "  func()\n"
     ]
    }
   ],
   "source": [
    "app=jupyter_dash.JupyterDash()\n",
    "app.layout=html.Div([\n",
    "    html.H1(\"Hello in my first dash\" ),\n",
    "\n",
    "    html.Div([\n",
    "        html.P(\"my text kdsfjklj!!!\"),\n",
    "        html.Hr(),\n",
    "        html.P(\"my text2 kdsfjjhkjhkjhklj!!!\")\n",
    "    ])\n",
    "    \n",
    "    \n",
    "    \n",
    "], style={\n",
    "        'textAlign':'center','color':'blue','background':'black'})\n",
    "app.run_server()"
   ]
  },
  {
   "cell_type": "code",
   "execution_count": 7,
   "id": "dda09b90",
   "metadata": {},
   "outputs": [
    {
     "name": "stdout",
     "output_type": "stream",
     "text": [
      "Dash app running on http://127.0.0.1:8050/\n"
     ]
    }
   ],
   "source": [
    "app=jupyter_dash.JupyterDash()\n",
    "app.layout=html.Div([\n",
    "    html.H1(\"Hello in my first dash\", style={\n",
    "        'textAlign':'center','color':'blue',\n",
    "        'background':'black','marginBottom':50,\"marginTop\":25,\n",
    "        'fontSize':50,\"border\":2} ),\n",
    "\n",
    "    html.Div([\n",
    "        html.P(\"my text kdsfjklj!!!\"),\n",
    "        html.Hr(),\n",
    "        html.P(\"my text2 kdsfjjhkjhkjhklj!!!\")\n",
    "    ],style={\n",
    "        'border':'6px red solid'#dotted\n",
    "        ,'width':500,'height':500} )\n",
    "    \n",
    "    \n",
    "    \n",
    "])\n",
    "app.run_server()"
   ]
  },
  {
   "cell_type": "code",
   "execution_count": 8,
   "id": "8e89153d",
   "metadata": {},
   "outputs": [
    {
     "name": "stdout",
     "output_type": "stream",
     "text": [
      "Dash app running on http://127.0.0.1:8050/\n"
     ]
    }
   ],
   "source": [
    "app=jupyter_dash.JupyterDash(external_stylesheets=[\"https://codepen.io/chriddyp/pen/bWLwgP.css\"])\n",
    "app.layout=html.Div([\n",
    "   html.Div('div1'),\n",
    "   html.Div(\"div2\"), \n",
    "   html.Div(\"div3\") \n",
    "    \n",
    "])\n",
    "app.run_server()"
   ]
  },
  {
   "cell_type": "code",
   "execution_count": 9,
   "id": "34604a77",
   "metadata": {},
   "outputs": [
    {
     "name": "stdout",
     "output_type": "stream",
     "text": [
      "Dash app running on http://127.0.0.1:8002/\n"
     ]
    }
   ],
   "source": [
    "app=jupyter_dash.JupyterDash(external_stylesheets=[\"https://codepen.io/chriddyp/pen/bWLwgP.css\"])\n",
    "app.layout=html.Div([\n",
    "   html.Div('div1',className=\"four columns\"),\n",
    "   html.Div(\"div2\",className=\"four columns\"), \n",
    "   html.Div(\"div3\",className=\"three columns\") \n",
    "    \n",
    "])\n",
    "app.run_server(port=8002, debug=True)"
   ]
  },
  {
   "cell_type": "code",
   "execution_count": 10,
   "id": "3e11651e",
   "metadata": {},
   "outputs": [
    {
     "name": "stdout",
     "output_type": "stream",
     "text": [
      "Dash app running on http://127.0.0.1:8002/\n"
     ]
    }
   ],
   "source": [
    "# https://dash.plotly.com/dash-core-components\n",
    "#https://dash.plotly.com/dash-core-components/dropdown\n",
    "app=jupyter_dash.JupyterDash(external_stylesheets=[\"https://codepen.io/chriddyp/pen/bWLwgP.css\"])\n",
    "app.layout=html.Div([\n",
    "   html.Div(dcc.Graph(),className=\"five columns\"),\n",
    "   html.Div(dcc.Graph(),className=\"four columns\"), \n",
    "   html.Div(dcc.Graph(),className=\"four columns\") \n",
    "    \n",
    "])\n",
    "app.run_server(port=8002, debug=True)"
   ]
  },
  {
   "cell_type": "code",
   "execution_count": 11,
   "id": "577854d2",
   "metadata": {},
   "outputs": [
    {
     "name": "stdout",
     "output_type": "stream",
     "text": [
      "Dash app running on http://127.0.0.1:8010/\n"
     ]
    }
   ],
   "source": [
    "# https://dash.plotly.com/dash-core-components\n",
    "#https://dash.plotly.com/dash-core-components/dropdown\n",
    "import plotly.express as px\n",
    "import pandas as pd\n",
    "df=px.data.gapminder()\n",
    "fig =px.scatter(df,x=\"gdpPercap\",y='lifeExp')\n",
    "\n",
    "app=jupyter_dash.JupyterDash(external_stylesheets=[\"https://codepen.io/chriddyp/pen/bWLwgP.css\"])\n",
    "app.layout=html.Div([\n",
    "   html.Div(dcc.Graph(figure=fig),className=\"four columns\"),\n",
    "   html.Div(dcc.Graph(),className=\"four columns\"), \n",
    "   html.Div(dcc.Graph(),className=\"three columns\") \n",
    "    \n",
    "])\n",
    "app.run_server(port=8010, debug=True)"
   ]
  },
  {
   "cell_type": "code",
   "execution_count": 12,
   "id": "2b1e78e5",
   "metadata": {},
   "outputs": [
    {
     "name": "stdout",
     "output_type": "stream",
     "text": [
      "Dash app running on http://127.0.0.1:8050/\n"
     ]
    },
    {
     "name": "stderr",
     "output_type": "stream",
     "text": [
      "C:\\ProgramData\\Anaconda3\\lib\\site-packages\\jupyter_dash\\jupyter_app.py:139: UserWarning:\n",
      "\n",
      "The 'environ['werkzeug.server.shutdown']' function is deprecated and will be removed in Werkzeug 2.1.\n",
      "\n"
     ]
    }
   ],
   "source": [
    "# https://dash.plotly.com/dash-core-components\n",
    "#https://dash.plotly.com/dash-core-components/dropdown\n",
    "import plotly.express as px\n",
    "import pandas as pd\n",
    "df=px.data.gapminder()\n",
    "fig =px.scatter(df,x=\"gdpPercap\",y='lifeExp')\n",
    "\n",
    "app=jupyter_dash.JupyterDash()\n",
    "app.layout=html.Div([\n",
    "  dcc.Input(id=\"my-input\",value=\"None\",type ='text'), \n",
    "    html.P('hello!!')\n",
    "#    html.Div(dcc.Graph(),className=\"three columns\") \n",
    "    \n",
    "])\n",
    "app.run_server()"
   ]
  },
  {
   "cell_type": "code",
   "execution_count": 13,
   "id": "ef1513c1",
   "metadata": {},
   "outputs": [
    {
     "name": "stdout",
     "output_type": "stream",
     "text": [
      "Dash app running on http://127.0.0.1:8050/\n"
     ]
    }
   ],
   "source": [
    "# https://dash.plotly.com/dash-core-components\n",
    "#https://dash.plotly.com/dash-core-components/dropdown\n",
    "import plotly.express as px\n",
    "import pandas as pd\n",
    "df=px.data.gapminder()\n",
    "fig =px.scatter(df,x=\"gdpPercap\",y='lifeExp')\n",
    "\n",
    "app=jupyter_dash.JupyterDash()\n",
    "app.layout=html.Div([\n",
    "  dcc.Input(id=\"my-input\",value=None,type ='text'), \n",
    "    html.Div(id='my_Div')\n",
    "#    html.Div(dcc.Graph(),className=\"three columns\") \n",
    "    \n",
    "])\n",
    "\n",
    "@app.callback(\n",
    "    Output(component_id='my_Div',component_property=\"children\"),\n",
    "    Input(component_id='my-input',component_property=\"value\")\n",
    ")\n",
    "def update_output(value):\n",
    "    if value==None:\n",
    "        return \"no thing!!\"\n",
    "\n",
    "    else:\n",
    "        return f'You have selected {value}'\n",
    "\n",
    "\n",
    "app.run_server()"
   ]
  },
  {
   "cell_type": "code",
   "execution_count": 14,
   "id": "40f748ee",
   "metadata": {},
   "outputs": [
    {
     "name": "stdout",
     "output_type": "stream",
     "text": [
      "Dash app running on http://127.0.0.1:8050/\n"
     ]
    }
   ],
   "source": [
    "# https://dash.plotly.com/dash-core-components\n",
    "#https://dash.plotly.com/dash-core-components/dropdown\n",
    "import plotly.express as px\n",
    "import pandas as pd\n",
    "df=px.data.gapminder()\n",
    "fig =px.scatter(df,x=\"gdpPercap\",y='lifeExp')\n",
    "\n",
    "app=jupyter_dash.JupyterDash()\n",
    "app.layout=html.Div([\n",
    "  dcc.Input(id=\"my-input\",value=None,type ='text'), \n",
    "    html.Div(id='my_Div')\n",
    "#    html.Div(dcc.Graph(),className=\"three columns\") \n",
    "    \n",
    "])\n",
    "\n",
    "@app.callback(\n",
    "    Output(component_id='my_Div',component_property=\"children\"),\n",
    "    Input(component_id='my-input',component_property=\"value\")\n",
    ")\n",
    "def update_output(value):\n",
    "    return f'You have selected {value}'\n",
    "\n",
    "app.run_server()"
   ]
  },
  {
   "cell_type": "code",
   "execution_count": 15,
   "id": "97c45cd0",
   "metadata": {},
   "outputs": [
    {
     "name": "stdout",
     "output_type": "stream",
     "text": [
      "Dash app running on http://127.0.0.1:8050/\n"
     ]
    }
   ],
   "source": [
    "# https://dash.plotly.com/dash-core-components\n",
    "#https://dash.plotly.com/dash-core-components/dropdown\n",
    "import plotly.express as px\n",
    "import pandas as pd\n",
    "df=px.data.gapminder()\n",
    "fig =px.scatter(df,x=\"gdpPercap\",y='lifeExp')\n",
    "\n",
    "app=jupyter_dash.JupyterDash()\n",
    "app.layout=html.Div([\n",
    "    html.H1(\"call back example2\"),\n",
    "    dcc.Graph(id=\"myGraph\"), \n",
    "    dcc.Slider(\n",
    "        id=\"my_slider\",\n",
    "        min=df['year'].min(),\n",
    "        value=df['year'].min(),\n",
    "        max=df['year'].max(),\n",
    "        step=None,\n",
    "        marks={str(years):str(years) for years in df[\"year\"].unique()}\n",
    "    )\n",
    "    \n",
    "])\n",
    "\n",
    "@app.callback(\n",
    "    Output('myGraph',\"figure\"),\n",
    "    Input('my_slider',\"value\")\n",
    ")\n",
    "def update_output(slidervalue):\n",
    "    filt_df=df[df.year==slidervalue]\n",
    "    fig=px.scatter(filt_df,x=\"gdpPercap\",y='lifeExp',size=\"pop\",color='continent')\n",
    "    return fig\n",
    "\n",
    "app.run_server()"
   ]
  },
  {
   "cell_type": "code",
   "execution_count": 16,
   "id": "058a94c6",
   "metadata": {},
   "outputs": [
    {
     "name": "stdout",
     "output_type": "stream",
     "text": [
      "Dash app running on http://127.0.0.1:8050/\n"
     ]
    }
   ],
   "source": [
    "# https://dash.plotly.com/dash-core-components\n",
    "#https://dash.plotly.com/dash-core-components/dropdown\n",
    "import plotly.express as px\n",
    "import pandas as pd\n",
    "df=px.data.gapminder()\n",
    "fig =px.scatter(df,x=\"gdpPercap\",y='lifeExp')\n",
    "\n",
    "app=jupyter_dash.JupyterDash()\n",
    "app.layout=html.Div([\n",
    "    html.H1(\"call back example3\"),\n",
    "    dcc.Graph(id=\"myGraph\"), \n",
    "     dcc.Dropdown(\n",
    "        id=\"demo_dropdown\",\n",
    "        value=None,\n",
    "        placeholder=\"choose a continent .....\",\n",
    "        options=[ {'label':str(continent) ,\"value\":str(continent) }\n",
    "                   for continent in df[\"continent\"].unique()]\n",
    "         \n",
    "         \n",
    "    ),\n",
    "    dcc.Slider(\n",
    "        id=\"my_slider\",\n",
    "        min=df['year'].min(),\n",
    "        value=df['year'].min(),\n",
    "        max=df['year'].max(),\n",
    "        step=None,\n",
    "        marks={str(years):str(years) for years in df[\"year\"].unique()}\n",
    "    )\n",
    "])\n",
    "\n",
    "@app.callback(\n",
    "    Output('myGraph',\"figure\"),\n",
    "    Input('my_slider',\"value\"),\n",
    "    Input('demo_dropdown',\"value\")\n",
    "\n",
    ")\n",
    "def update_output(slidervalue,dropdownValue):\n",
    "    if dropdownValue==None:\n",
    "        filt_df=df[df.year==slidervalue]\n",
    "        fig=px.scatter(filt_df,x=\"gdpPercap\",y='lifeExp',size=\"pop\",color='continent')\n",
    "    else:\n",
    "        filt_df=df[ (df.year==slidervalue) & (df.continent==dropdownValue) ]\n",
    "        fig=px.scatter(filt_df,x=\"gdpPercap\",y='lifeExp',size=\"pop\",color='continent')\n",
    "    return fig\n",
    "\n",
    "app.run_server()"
   ]
  },
  {
   "cell_type": "code",
   "execution_count": 17,
   "id": "d6cfe494",
   "metadata": {},
   "outputs": [
    {
     "name": "stdout",
     "output_type": "stream",
     "text": [
      "Dash app running on http://127.0.0.1:8050/\n"
     ]
    }
   ],
   "source": [
    "# https://dash.plotly.com/dash-core-components\n",
    "#https://dash.plotly.com/dash-core-components/dropdown\n",
    "import plotly.express as px\n",
    "import pandas as pd\n",
    "df=px.data.gapminder()\n",
    "fig =px.scatter(df,x=\"gdpPercap\",y='lifeExp')\n",
    "\n",
    "app=jupyter_dash.JupyterDash()\n",
    "app.layout=html.Div([\n",
    "    html.H1(\"call back example3\"),\n",
    "    dcc.Graph(id=\"myGraph1\"), \n",
    "    dcc.Graph(id=\"myGraph2\"),\n",
    "     dcc.Dropdown(\n",
    "        id=\"demo_dropdown\",\n",
    "        value=None,\n",
    "        placeholder=\"choose a continent .....\",\n",
    "        options=[ {'label':str(continent) ,\"value\":str(continent) }\n",
    "                   for continent in df[\"continent\"].unique()]\n",
    "         \n",
    "         \n",
    "    ),\n",
    "    dcc.Slider(\n",
    "        id=\"my_slider\",\n",
    "        min=df['year'].min(),\n",
    "        value=df['year'].min(),\n",
    "        max=df['year'].max(),\n",
    "        step=None,\n",
    "        marks={str(years):str(years) for years in df[\"year\"].unique()}\n",
    "    )\n",
    "])\n",
    "\n",
    "@app.callback(\n",
    "    Output('myGraph1',\"figure\"),\n",
    "    Output('myGraph2',\"figure\"),\n",
    "    Input('my_slider',\"value\"),\n",
    "    Input('demo_dropdown',\"value\")\n",
    "\n",
    ") \n",
    "def update_output(slidervalue,dropdownValue):\n",
    "    if dropdownValue==None:\n",
    "        filt_df=df[df.year==slidervalue]\n",
    "        fig=px.sunburst(filt_df,color='lifeExp',values=\"pop\", path=[\"continent\",\"country\"],\n",
    "        hover_name=\"country\",title=\"GGGGG\",width=600,height=600)\n",
    "        fig2=px.scatter(filt_df,x=\"gdpPercap\",y='lifeExp',size=\"pop\",color='continent')\n",
    "\n",
    "    else:\n",
    "        filt_df=df[ (df.year==slidervalue) & (df.continent==dropdownValue) ]\n",
    "        fig=px.sunburst(filt_df,color='lifeExp',values=\"pop\", path=[\"continent\",\"country\"],hover_name=\"country\",title=\"GGGGG\",width=600,height=600)\n",
    "        fig2=px.scatter(filt_df,x=\"gdpPercap\",y='lifeExp',size=\"pop\",color='continent')\n",
    "    return fig,fig2\n",
    "\n",
    "app.run_server()"
   ]
  },
  {
   "cell_type": "code",
   "execution_count": 21,
   "id": "7be3f97b",
   "metadata": {},
   "outputs": [
    {
     "name": "stdout",
     "output_type": "stream",
     "text": [
      "Dash app running on http://127.0.0.1:8050/\n"
     ]
    }
   ],
   "source": [
    "# https://dash.plotly.com/dash-core-components\n",
    "#https://dash.plotly.com/dash-core-components/dropdown\n",
    "import plotly.express as px\n",
    "import pandas as pd\n",
    "df=px.data.gapminder()\n",
    "fig =px.scatter(df,x=\"gdpPercap\",y='lifeExp')\n",
    "\n",
    "app=jupyter_dash.JupyterDash()\n",
    "app.layout=html.Div([\n",
    "    html.H1(\"call back example3\"),\n",
    "    html.Button('Button 1', id='btn-nclicks-1', n_clicks=0),\n",
    "    dcc.Graph(id=\"myGraph1\",figure={}), \n",
    "    dcc.Graph(id=\"myGraph2\",figure={}),\n",
    "     dcc.Dropdown(\n",
    "        id=\"demo_dropdown\",\n",
    "        value=None,\n",
    "        placeholder=\"choose a continent .....\",\n",
    "        options=[ {'label':str(continent) ,\"value\":str(continent) }\n",
    "                   for continent in df[\"continent\"].unique()]\n",
    "         \n",
    "    ),\n",
    "    dcc.Slider(\n",
    "        id=\"my_slider\",\n",
    "        min=df['year'].min(),\n",
    "        value=df['year'].min(),\n",
    "        max=df['year'].max(),\n",
    "        step=None,\n",
    "        marks={str(years):str(years) for years in df[\"year\"].unique()}\n",
    "    )\n",
    "],style={'background':'black'})\n",
    "\n",
    "@app.callback(\n",
    "    Output('myGraph1',\"figure\"),\n",
    "    Output('myGraph2',\"figure\"),\n",
    "    State('my_slider',\"value\"),\n",
    "    State('demo_dropdown',\"value\"),\n",
    "    Input('btn-nclicks-1', 'n_clicks')\n",
    "\n",
    ") \n",
    "def update_output(slidervalue,dropdownValue,n):\n",
    "        if n !=0:\n",
    "            filt_df=df[df.year==slidervalue]\n",
    "            fig=px.sunburst(filt_df,color='lifeExp',values=\"pop\", path=[\"continent\",\"country\"],\n",
    "            hover_name=\"country\",title=\"GGGGG\",width=600,height=600)\n",
    "            fig2=px.scatter(filt_df,x=\"gdpPercap\",y='lifeExp',size=\"pop\",color='continent')\n",
    "        filt_df=df[df.year==slidervalue]\n",
    "        fig=px.scatter(filt_df,x=\"gdpPercap\",y='lifeExp',size=\"pop\",color='continent')\n",
    "        fig2=px.scatter(filt_df,x=\"gdpPercap\",y='lifeExp',size=\"pop\",color='continent')\n",
    "        return fig,fig2\n",
    "\n",
    "app.run_server()"
   ]
  },
  {
   "cell_type": "code",
   "execution_count": 19,
   "id": "440cee0f",
   "metadata": {},
   "outputs": [
    {
     "name": "stdout",
     "output_type": "stream",
     "text": [
      "Dash app running on http://127.0.0.1:8050/\n"
     ]
    }
   ],
   "source": [
    "# -*- coding: utf-8 -*-\n",
    "from dash import Dash, dcc, html\n",
    "from dash.dependencies import Input, Output\n",
    "\n",
    "app=jupyter_dash.JupyterDash()\n",
    "app.layout=html.Div(\n",
    "    [\n",
    "        html.I(\"Try typing in input 1 & 2, and observe how debounce is impacting the callbacks. Press Enter and/or Tab key in Input 2 to cancel the delay\"),\n",
    "        html.Br(),\n",
    "        dcc.Input(id=\"input1\", type=\"text\", placeholder=\"\", style={'marginRight':'10px'}),\n",
    "        dcc.Input(id=\"input2\", type=\"text\", placeholder=\"\", debounce=True),\n",
    "        html.Div(id=\"output\"),\n",
    "    ]\n",
    ")\n",
    "\n",
    "\n",
    "@app.callback(\n",
    "    Output(\"output\", \"children\"),\n",
    "    Input(\"input1\", \"value\"),\n",
    "    Input(\"input2\", \"value\"),\n",
    ")\n",
    "def update_output(input1, input2):\n",
    "    return u'Input 1 {} and Input 2 {}'.format(input1, input2)\n",
    "\n",
    "\n",
    "if __name__ == \"__main__\":\n",
    "    app.run_server(debug=True)\n"
   ]
  },
  {
   "cell_type": "code",
   "execution_count": null,
   "id": "9d943c70",
   "metadata": {},
   "outputs": [],
   "source": []
  }
 ],
 "metadata": {
  "kernelspec": {
   "display_name": "Python 3 (ipykernel)",
   "language": "python",
   "name": "python3"
  },
  "language_info": {
   "codemirror_mode": {
    "name": "ipython",
    "version": 3
   },
   "file_extension": ".py",
   "mimetype": "text/x-python",
   "name": "python",
   "nbconvert_exporter": "python",
   "pygments_lexer": "ipython3",
   "version": "3.9.7"
  }
 },
 "nbformat": 4,
 "nbformat_minor": 5
}
