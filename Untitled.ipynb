{
 "cells": [
  {
   "cell_type": "code",
   "execution_count": 1,
   "id": "82a49459",
   "metadata": {},
   "outputs": [],
   "source": [
    "import pandas as pd\n",
    "# sales data of a shop\n",
    "dates = [\"2020-12-29\", \"2020-12-30\", \"2021-01-01\", \"2021-01-02\",\"2021-01-04\", \"2021-01-05\"]\n",
    "units_sold = [10, 8, 21, 16, 12,20]\n",
    "# create the dataframe\n",
    "df = pd.DataFrame({\n",
    "    \"Purchase_Date\": dates,\n",
    "    \"Sales\": units_sold\n",
    "})"
   ]
  },
  {
   "cell_type": "code",
   "execution_count": 2,
   "id": "88b5e138",
   "metadata": {},
   "outputs": [],
   "source": [
    "\n",
    "# convert the Purchase Date to datetime\n",
    "df['Purchase_Date'] = pd.to_datetime(df['Purchase_Date'])\n",
    "# add a column for Year\n",
    "df['Year'] = df['Purchase_Date'].dt.year"
   ]
  },
  {
   "cell_type": "code",
   "execution_count": 3,
   "id": "5d6d2d50",
   "metadata": {},
   "outputs": [
    {
     "name": "stdout",
     "output_type": "stream",
     "text": [
      "  Purchase_Date  Sales  Year\n",
      "0    2020-12-29     10  2020\n",
      "1    2020-12-30      8  2020\n",
      "2    2021-01-01     21  2021\n",
      "3    2021-01-02     16  2021\n",
      "4    2021-01-04     12  2021\n",
      "5    2021-01-05     20  2021\n",
      "<class 'pandas.core.frame.DataFrame'>\n",
      "RangeIndex: 6 entries, 0 to 5\n",
      "Data columns (total 3 columns):\n",
      " #   Column         Non-Null Count  Dtype         \n",
      "---  ------         --------------  -----         \n",
      " 0   Purchase_Date  6 non-null      datetime64[ns]\n",
      " 1   Sales          6 non-null      int64         \n",
      " 2   Year           6 non-null      int64         \n",
      "dtypes: datetime64[ns](1), int64(2)\n",
      "memory usage: 272.0 bytes\n"
     ]
    }
   ],
   "source": [
    "\n",
    "# print the dataframe\n",
    "print(df)\n",
    "df.info()\n"
   ]
  },
  {
   "cell_type": "code",
   "execution_count": 4,
   "id": "1652dfb8",
   "metadata": {},
   "outputs": [],
   "source": [
    "# import plotly.express as px\n",
    "\n",
    "# # fig = px.line(df, x='date', y=\"GOOG\")\n",
    "# fig = px.line(df, x='Purchase_Date', y=\"Sales\")\n",
    "# fig.add_vline(x=df['Purchase_Date'][2], line_width=3, line_dash=\"dash\", line_color=\"green\")\n",
    "\n",
    "# fig.show()\n",
    "# # dcc.RangeSlider(\n",
    "# #                 id='Purchase Date',\n",
    "# #                 min = unixTimeMillis(daterange.min()),\n",
    "# #                 max = unixTimeMillis(daterange.max()),\n",
    "# #                 value = [unixTimeMillis(daterange.min()),\n",
    "# #                          unixTimeMillis(daterange.max())],\n",
    "# #                 marks=getMarks(daterange.min(),\n",
    "# #                             daterange.max())\n",
    "# #             )"
   ]
  },
  {
   "cell_type": "code",
   "execution_count": 19,
   "id": "d9009fce",
   "metadata": {},
   "outputs": [
    {
     "name": "stdout",
     "output_type": "stream",
     "text": [
      "Dash app running on http://127.0.0.1:8050/\n"
     ]
    }
   ],
   "source": [
    "# from dash import Dash, dcc, html, Input, Output,State\n",
    "# import plotly.express as px\n",
    "# import jupyter_dash \n",
    "\n",
    "\n",
    "\n",
    "\n",
    "# app=jupyter_dash.JupyterDash()\n",
    "\n",
    "# app.layout = html.Div([\n",
    "    \n",
    "#     html.H4(' plot an interactive horizontal line'),\n",
    "#     dcc.Graph(id=\"graph\"),\n",
    "#   html.P(\"Position of hline 'write date as year-month-day'  \"),\n",
    "# #     dcc.Input(id=\"my-input\",type='datetime-local') \n",
    "#     dcc.Input(id=\"my-input\",type=\"text\",\n",
    "#         value=None, placeholder=\"\")\n",
    "# ])\n",
    "\n",
    "\n",
    "# @app.callback(\n",
    "#     Output(\"graph\", \"figure\"), \n",
    "#     Input('my-input',\"value\")\n",
    "    \n",
    "# )\n",
    "\n",
    "# def display_graph(pos_x):\n",
    "    \n",
    "#     if pos_x==None:\n",
    "#         fig = px.line(df, x='Purchase_Date', y=\"Sales\", markers=True,template=\"simple_white\")\n",
    "#     else:\n",
    "        \n",
    "#         if pd.to_datetime(pos_x) in df['Purchase_Date'].unique():\n",
    "#                  fig = px.line(df, x='Purchase_Date', y=\"Sales\", markers=True,template=\"simple_white\")\n",
    "#                  fig.add_vline(x=pos_x, line_width=3, line_dash=\"dash\", line_color=\"green\")\n",
    "#         else:\n",
    "#             fig = px.line(df, x='Purchase_Date', y=\"Sales\", markers=True,template=\"simple_white\")\n",
    "#             fig.add_vline(x=pos_x, line_width=3, line_dash=\"dash\", line_color=\"green\")\n",
    "#             index=df.Purchase_Date.searchsorted(pos_x)\n",
    "#             fig.add_vrect(x0=df['Purchase_Date'][index-1], x1=df['Purchase_Date'][index], \n",
    "#             fillcolor=\"white\", opacity=1, line_width=0)\n",
    "            \n",
    "# #             fig.add_vline(x=pos_x, line_width=3, line_dash=\"dash\", line_color=\"green\")\n",
    "\n",
    "    \n",
    "#     return fig\n",
    "\n",
    "\n",
    "# app.run_server(debug=True)"
   ]
  },
  {
   "cell_type": "code",
   "execution_count": 73,
   "id": "a710b661",
   "metadata": {},
   "outputs": [
    {
     "name": "stdout",
     "output_type": "stream",
     "text": [
      "Dash app running on http://127.0.0.1:8040/\n"
     ]
    }
   ],
   "source": [
    "# https://dash.plotly.com/dash-core-components\n",
    "#https://dash.plotly.com/dash-core-components/dropdown\n",
    "# https://dash.plotly.com/dash-core-components/datepickerrange\n",
    "import plotly.express as px\n",
    "import pandas as pd\n",
    "from datetime import date\n",
    "\n",
    "app=jupyter_dash.JupyterDash()\n",
    "app.layout=html.Div([\n",
    "    \n",
    "     \n",
    "    html.P(\"Position of hline 'write date as year-month-day'  \"),\n",
    "    dcc.DatePickerSingle(\n",
    "        id='my-date-picker-range',\n",
    "         display_format='Y-M-D',\n",
    "        min_date_allowed=date(2000, 8, 5),\n",
    "        max_date_allowed=date(2023, 9, 19),\n",
    "        initial_visible_month=date(2021, 1, 3),\n",
    "        date=date(2021,1,3)\n",
    "\n",
    "    ), \n",
    "    html.H4(' plot an interactive horizontal line'),\n",
    "    dcc.Graph(id=\"graph\")\n",
    "  \n",
    "    \n",
    "])\n",
    "\n",
    "@app.callback(\n",
    "    Output(component_id='graph',component_property=\"figure\"),\n",
    "    Input(component_id='my-date-picker-range',component_property= 'start_date')\n",
    ")\n",
    "def update_output(start_date):\n",
    "    \n",
    "    fig = px.line(df, x='Purchase_Date', y=\"Sales\", markers=True,template=\"simple_white\")\n",
    "    date_object = datetime.date.fromisoformat(start_date)\n",
    "    date_string = date_object.strftime('%Y-%M-%D')  \n",
    "    if pd.to_datetime(date_string) in df['Purchase_Date'].unique():\n",
    "            fig = px.line(df, x='Purchase_Date', y=\"Sales\", markers=True,template=\"simple_white\")\n",
    "            fig.add_vline(x=start_date, line_width=3, line_dash=\"dash\", line_color=\"green\")\n",
    "    else:\n",
    "            fig = px.line(df, x='Purchase_Date', y=\"Sales\", markers=True,template=\"simple_white\")\n",
    "            fig.add_vline(x=start_date, line_width=3, line_dash=\"dash\", line_color=\"green\")\n",
    "            index=df.Purchase_Date.searchsorted(start_date)\n",
    "            fig.add_vrect(x0=df['Purchase_Date'][index-1], x1=df['Purchase_Date'][index], \n",
    "            fillcolor=\"white\", opacity=1, line_width=0)\n",
    "    \n",
    "    return fig\n",
    "\n",
    "\n",
    "app.run_server(port=8040, debug=True)"
   ]
  },
  {
   "cell_type": "code",
   "execution_count": 6,
   "id": "9470afc6",
   "metadata": {},
   "outputs": [
    {
     "name": "stdout",
     "output_type": "stream",
     "text": [
      "2\n"
     ]
    }
   ],
   "source": [
    "#  https://stackoverflow.com/questions/42264848/pandas-dataframe-how-to-query-the-closest-datetime-index\n",
    "# https://kanoki.org/2022/02/09/how-to-find-closest-date-in-dataframe-for-a-given-date/\n",
    "if pd.to_datetime(\"2021-01-01\") in df['Purchase_Date'].unique():\n",
    "      print(df.Purchase_Date.searchsorted(\"2020-12-31\"))\n",
    "\n",
    "    \n",
    "    \n",
    "#     dt_New = pd.to_datetime(\"2021-01-03\")\n",
    "#     print (dt_New)\n",
    "#     print (df.index.get_loc(dt_New, method='nearest'))\n",
    "#     idx = df.index[df.Purchase_Date.get_loc(dt_New, method='nearest')]\n",
    "#     print (idx)\n",
    "    \n",
    "    \n",
    "    # today is 2021-2-13, so most recent would be 2021-2-1:\n",
    "    # print(pd.DatetimeIndex(df['Purchase_Date']).get_loc(pd.Timestamp('2020-12-31'), method='pad'))"
   ]
  },
  {
   "cell_type": "code",
   "execution_count": 76,
   "id": "4492e1c7",
   "metadata": {},
   "outputs": [
    {
     "name": "stdout",
     "output_type": "stream",
     "text": [
      "2012-00-10/12/12\n"
     ]
    }
   ],
   "source": [
    "# Importing datetime module\n",
    "import datetime\n",
    "  \n",
    "# Initializing a date\n",
    "Date = \"2012-10-12\";\n",
    "  \n",
    "# Calling fromisoformat() function to\n",
    "# construct a datetime.date object \n",
    "New_date = datetime.date.fromisoformat(Date)\n",
    "  \n",
    "# Printing the new constructed date object\n",
    "print(New_date.strftime('%Y-%M-%D'))"
   ]
  },
  {
   "cell_type": "code",
   "execution_count": null,
   "id": "f25fe81f",
   "metadata": {},
   "outputs": [],
   "source": []
  }
 ],
 "metadata": {
  "kernelspec": {
   "display_name": "Python 3 (ipykernel)",
   "language": "python",
   "name": "python3"
  },
  "language_info": {
   "codemirror_mode": {
    "name": "ipython",
    "version": 3
   },
   "file_extension": ".py",
   "mimetype": "text/x-python",
   "name": "python",
   "nbconvert_exporter": "python",
   "pygments_lexer": "ipython3",
   "version": "3.9.7"
  }
 },
 "nbformat": 4,
 "nbformat_minor": 5
}
